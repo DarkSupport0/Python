{
 "cells": [
  {
   "cell_type": "markdown",
   "id": "451d1428",
   "metadata": {
    "tags": []
   },
   "source": [
    "---\n",
    "title: \"Лабораторна робота №1. Інсталяція та налаштування Python-середовища\"\n",
    "author: \"&copy; Фігас Ярослав, 2023\"\n",
    "date: today\n",
    "lang: ukr\n",
    "format:\n",
    "  html:\n",
    "    code-fold: true\n",
    "    toc: true # меню\n",
    "    toc_float: # спливаюче меню  \n",
    "      collapsed: true # авто\n",
    "      number_sections: true\n",
    "jupyter: python3\n",
    "---"
   ]
  },
  {
   "cell_type": "markdown",
   "id": "e3f76926",
   "metadata": {},
   "source": [
    "__Мета:__ _Засвоїти на практиці роботу з python3 у середовищі IDE PyCharm системою контроля версій git._"
   ]
  },
  {
   "cell_type": "markdown",
   "id": "9d685e9b",
   "metadata": {},
   "source": [
    "## Встановлення Python"
   ]
  },
  {
   "cell_type": "markdown",
   "id": "f1f1764c",
   "metadata": {},
   "source": [
    "Для встановлення Python треба скачати завантажувальний файл з [офіційного сайту Python](https://www.python.org/downloads/), а також середовщие для програмування [PyCharm](https://www.jetbrains.com/ru-ru/pycharm/download/?section=windows), а для оформлення звіту [Anaconda](https://www.anaconda.com/download) та [Quarto](https://quarto.org/docs/get-started/)."
   ]
  },
  {
   "cell_type": "markdown",
   "id": "bd8e965a-35a6-4472-a5c4-d9e4ff34403e",
   "metadata": {},
   "source": [
    "## Робота з Python"
   ]
  },
  {
   "cell_type": "markdown",
   "id": "b19091d2-34c3-4572-a6c4-0c7c0f3a077c",
   "metadata": {},
   "source": [
    "Для початку програмування запустимо PyCharm. Після запуску потрібно зареєструватись на пробну ліцензію або, при наявності існуючої, зайти у свій профіль JetBrain та обрати існуючу ліцензію. Після чого треба створити проект. У наступному вікні потрібно обрати місцевлаштування, де буде зберігатись проект, а також прописати шлях до python, після чого відкриється наш проект."
   ]
  },
  {
   "cell_type": "markdown",
   "id": "e470085f-8a8e-4cae-a94b-f2d60328a10c",
   "metadata": {},
   "source": [
    "![](foto\\AddProject.jpg)"
   ]
  },
  {
   "cell_type": "markdown",
   "id": "b3492438-ba33-40c6-8ae1-7435979929df",
   "metadata": {},
   "source": [
    "Після запуску проекту, створюємо файл _lab_1_Figas.py_. У ньому прописуємо нашу команду print('Привіт, спотерігач'), і запускаємо код на перевірку."
   ]
  },
  {
   "cell_type": "markdown",
   "id": "e45e7301-9ee7-48a8-be68-37945a69afd6",
   "metadata": {},
   "source": [
    "![](foto\\CreateFile.jpg)"
   ]
  },
  {
   "cell_type": "markdown",
   "id": "d206bd2a-3cb2-412f-88d9-25d7ebbf6a09",
   "metadata": {},
   "source": [
    "Перевірити код можна також тут"
   ]
  },
  {
   "cell_type": "code",
   "execution_count": 1,
   "id": "29385eda-1f6c-41a0-9368-983217dc2fdc",
   "metadata": {
    "tags": []
   },
   "outputs": [
    {
     "name": "stdout",
     "output_type": "stream",
     "text": [
      "Привіт, спостерігач\n"
     ]
    }
   ],
   "source": [
    "print('Привіт, спостерігач')"
   ]
  },
  {
   "cell_type": "markdown",
   "id": "8178b423-e4ec-4a6b-80d6-1b8a63dc4f34",
   "metadata": {},
   "source": [
    "## Робота з GitHub"
   ]
  },
  {
   "cell_type": "markdown",
   "id": "05c536fe-466a-43cd-ad7e-183433049c30",
   "metadata": {},
   "source": [
    "Наступним кроком треба з'єднати наш проект і вебсервіс GitHub. Для цього створимо репозиторій."
   ]
  },
  {
   "cell_type": "markdown",
   "id": "9ce6a80c-4aad-43a2-baf5-6650bf8cc780",
   "metadata": {},
   "source": [
    "![](foto\\CreateRepos.jpg)"
   ]
  },
  {
   "cell_type": "markdown",
   "id": "91abfb52-9aac-4a71-bebd-94267e68f21d",
   "metadata": {},
   "source": [
    "Далі скачаємо Git і зробимо налаштування конфігурації."
   ]
  },
  {
   "cell_type": "markdown",
   "id": "bf30f88c-a7ce-40c8-a415-50b972f93f41",
   "metadata": {},
   "source": [
    "![](foto\\ConfigUser.jpg)"
   ]
  },
  {
   "cell_type": "markdown",
   "id": "4d8e5127-9314-4b0e-82dd-e5d214ed3ed6",
   "metadata": {},
   "source": [
    "Наступним кроком треба ініціалізувати локальний репозиторій, для цього виконаємо наступну команду:"
   ]
  },
  {
   "cell_type": "markdown",
   "id": "7f3cc79b-78fb-4922-b5ff-ae15b573b46f",
   "metadata": {},
   "source": [
    "![](foto\\GitInit.jpg)"
   ]
  },
  {
   "cell_type": "markdown",
   "id": "de2586c6-ed98-454e-b0be-d2c09339151c",
   "metadata": {},
   "source": [
    "З певної версії GitHub перестав підтримувати назву гілки _master_, тому щоб перейти на потрібну гілку _main_, треба прописати наступну команду:"
   ]
  },
  {
   "cell_type": "markdown",
   "id": "0d4396ff-976d-4d9e-8cf0-c26da3c91d2a",
   "metadata": {},
   "source": [
    "![](foto\\GitBranch.jpg)"
   ]
  },
  {
   "cell_type": "markdown",
   "id": "c46b5d24-a846-4b6d-bef2-cf0aa63ba19e",
   "metadata": {},
   "source": [
    "Наступним кроком треба прив'язати віддалений(хмарний) репозиторій до локального, тому використаємо наступну команду:"
   ]
  },
  {
   "cell_type": "markdown",
   "id": "f92c8a23-783c-4c22-acd3-eaae83fcd70f",
   "metadata": {},
   "source": [
    "![](foto\\GitRemoteAdd.jpg)"
   ]
  },
  {
   "cell_type": "markdown",
   "id": "7e80ee9f-ddb5-4b3e-9916-141a7c1359e6",
   "metadata": {},
   "source": [
    "Для додавання нових файлів треба використати наступну команду:"
   ]
  },
  {
   "cell_type": "markdown",
   "id": "58e384fe-bdab-4825-b2a5-543725c50e89",
   "metadata": {},
   "source": [
    "![](foto\\GitAdd.jpg)"
   ]
  },
  {
   "cell_type": "markdown",
   "id": "d31a7579-677a-4f62-b525-ec02194b1a45",
   "metadata": {},
   "source": [
    "Для додавання змін, можна використати наступну команду(використовується з коментарем)."
   ]
  },
  {
   "cell_type": "markdown",
   "id": "f889d613-4cc8-423c-b391-be40253a46ff",
   "metadata": {},
   "source": [
    "![](foto\\GitCommit.jpg)"
   ]
  },
  {
   "cell_type": "markdown",
   "id": "5c837837-8a7d-41e2-9fb0-b6348b0eb34c",
   "metadata": {},
   "source": [
    "Тепер копію локального репозиторію можна відправити у хмарний репозиторій використавши наступну команду:"
   ]
  },
  {
   "cell_type": "markdown",
   "id": "523581fc-1dbf-4aec-9a51-84343f3d488d",
   "metadata": {},
   "source": [
    "![](foto\\GitPush.jpg)"
   ]
  },
  {
   "cell_type": "markdown",
   "id": "2727ed03-615d-4848-83fc-8661c2d034de",
   "metadata": {},
   "source": [
    "У результаті отримаємо наступний репозиторій"
   ]
  },
  {
   "cell_type": "markdown",
   "id": "0e013706-238b-430a-bb94-152667e88707",
   "metadata": {},
   "source": [
    "![](foto\\GitHubRepos.jpg)"
   ]
  },
  {
   "cell_type": "markdown",
   "id": "d91075c9-2159-4b89-9f7b-450e3816eb19",
   "metadata": {},
   "source": [
    "## Контрольні запитання"
   ]
  },
  {
   "cell_type": "markdown",
   "id": "d2c0cb4a-10ec-497e-95b0-eaf2e8a4213e",
   "metadata": {},
   "source": [
    "1. У чому відмінність інтерпретатора від компілятора? Python -- компілятор чи інтерпретатор?\n",
    "\n",
    "Компіляція - вихідна програма транслюється один раз шляхом отримання файлу, що містить машинний код, а інтерпретація -- це коли користувач коду може перекладати вихідну програму щоразу, коли вона має бути запущена. Python є інтерпретатором.\n",
    "\n",
    "2. Що таке IDE PyCharm?\n",
    "\n",
    "PyCharm — інтегроване середовище розробки для мови програмування Python, у якому можна робити, редагувати та перевіряти працездатність робочого коду.\n",
    "\n",
    "3. Що таке система контроля версій (СКВ) і для чого вона призначена? У чому принципова відмінність СКВ SVN та GIT?\n",
    "\n",
    "Система контролю версій - це система, що записує зміни у файл або набір файлів протягом деякого часу, де можна повернутись по певної версії. Subversion зберігає інформацію в одному єдиному сховищі, яке може бути або на локальному диску або на мережевому сервері, у той час, коли у GIT можна зберігати інформацію і на сервері і на диску.\n",
    "\n",
    "4. Що відбувається при виконанні команди `git add .`?\n",
    "\n",
    "`git add .` -- додає усі новостворені файли у індекс.\n",
    "\n",
    "5. Що відбувається при виконанні команди `git commit`?\n",
    "\n",
    "`git commit` -- додає зміни у локальний репозиторій.\n",
    "\n",
    "6. Якою Git-командою виконується розміщення локальної копії Git-репозиторію проєкта на віддаленому, що знаходиться на GitHub?\n",
    "\n",
    "Ця дія відбувається командою `git push -u [user] [branch]`"
   ]
  }
 ],
 "metadata": {
  "kernelspec": {
   "display_name": "Python 3 (ipykernel)",
   "language": "python",
   "name": "python3"
  },
  "language_info": {
   "codemirror_mode": {
    "name": "ipython",
    "version": 3
   },
   "file_extension": ".py",
   "mimetype": "text/x-python",
   "name": "python",
   "nbconvert_exporter": "python",
   "pygments_lexer": "ipython3",
   "version": "3.11.5"
  }
 },
 "nbformat": 4,
 "nbformat_minor": 5
}
