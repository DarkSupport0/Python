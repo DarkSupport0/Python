{
 "cells": [
  {
   "cell_type": "markdown",
   "id": "cec5202b",
   "metadata": {},
   "source": [
    "---\n",
    "title: \"Лабораторна робота №2. Функція `print()`\"\n",
    "author: \"&copy; Фігас Ярослав, 2023\"\n",
    "date: today\n",
    "lang: ukr\n",
    "format:\n",
    "  html:\n",
    "    code-fold: true\n",
    "    toc: true # меню\n",
    "    toc_float: # спливаюче меню  \n",
    "      collapsed: true # авто\n",
    "      number_sections: true\n",
    "jupyter: python3\n",
    "---"
   ]
  },
  {
   "cell_type": "markdown",
   "id": "fdf3b959-565b-4930-afc6-1233f996ce1e",
   "metadata": {},
   "source": [
    "__Мета:__ _навчитися писати і запускати найпростіші програми на Python з використанням функції `print()`_"
   ]
  },
  {
   "cell_type": "markdown",
   "id": "8d7ef1d5-5286-4149-99bd-839d93c9015d",
   "metadata": {},
   "source": [
    "## Виконання завдання"
   ]
  },
  {
   "cell_type": "markdown",
   "id": "a8b5102d-8df9-4374-9338-5d9a68052b68",
   "metadata": {},
   "source": [
    "Виконання завдання також буде у вигляді коду Python зберігатись у GitHub\\Code"
   ]
  },
  {
   "cell_type": "markdown",
   "id": "6b621675-b7a3-46b5-a02c-1c66ccc7eeac",
   "metadata": {},
   "source": [
    "### Завдання 1"
   ]
  },
  {
   "cell_type": "markdown",
   "id": "e8f4023c-6ee3-48ea-8cb1-f72d4ac363d5",
   "metadata": {},
   "source": [
    "Змінити код програми, щоби очикуваний результат виглядав наступним чином:\n",
    "`Programming***Essentials***in...Python`"
   ]
  },
  {
   "cell_type": "code",
   "execution_count": 16,
   "id": "116079ad",
   "metadata": {
    "tags": []
   },
   "outputs": [
    {
     "name": "stdout",
     "output_type": "stream",
     "text": [
      "Programming***Essentials***in...Python\n"
     ]
    }
   ],
   "source": [
    "print(\"Programming\",\"Essentials\",\"in...Python\",sep=\"***\")#First way"
   ]
  },
  {
   "cell_type": "code",
   "execution_count": 17,
   "id": "7e19aa64-6c59-464b-9017-a2a223e5db2f",
   "metadata": {
    "tags": []
   },
   "outputs": [
    {
     "name": "stdout",
     "output_type": "stream",
     "text": [
      "Programming***Essentials***in...Python\n"
     ]
    }
   ],
   "source": [
    "print(\"Programming***Essentials***in...Python\")#Second way"
   ]
  },
  {
   "cell_type": "markdown",
   "id": "c519da97-6a80-46a4-9802-7aea8ecd2f37",
   "metadata": {},
   "source": [
    "### Завдання 2"
   ]
  },
  {
   "cell_type": "markdown",
   "id": "b2fcf63e-a469-4ef7-b3c6-2225e9f294a6",
   "metadata": {},
   "source": [
    "Написати програму, яка виводила б на екран наступну картинку:"
   ]
  },
  {
   "cell_type": "markdown",
   "id": "23be313f-97a6-411b-a460-61871784f3ef",
   "metadata": {},
   "source": [
    "![](foto\\PictureUp.png)"
   ]
  },
  {
   "cell_type": "code",
   "execution_count": 7,
   "id": "c20f9809-1d49-447e-b3a2-464a90708071",
   "metadata": {
    "tags": []
   },
   "outputs": [
    {
     "name": "stdout",
     "output_type": "stream",
     "text": [
      "    *\n",
      "   * *\n",
      "  *   *\n",
      " *     *\n",
      "***   ***\n",
      "  *   *\n",
      "  *   *\n",
      "  *****\n"
     ]
    }
   ],
   "source": [
    "print(4*\" \"+\"*\\n\"\n",
    "      +3*\" \"+\"* *\\n\"\n",
    "      +2*\" \"+\"*\"+3*\" \"+\"*\\n\"\n",
    "      +1*\" \"+\"*\"+5*\" \"+\"*\\n\"\n",
    "      +3*\"*\"+3*\" \"+3*\"*\"+\"\\n\"\n",
    "      +2*\" \"+\"*\"+3*\" \"+\"*\\n\"\n",
    "      +2*\" \"+\"*\"+3*\" \"+\"*\\n\"\n",
    "      +2*\" \"+5*\"*\")"
   ]
  },
  {
   "cell_type": "markdown",
   "id": "9184b6a8-4864-47fa-b6d1-3d534864cfd4",
   "metadata": {},
   "source": [
    "Або ж можна прописати кожну строку окремо."
   ]
  },
  {
   "cell_type": "markdown",
   "id": "cf0cf502-c055-46ff-92b5-bcfd847f9655",
   "metadata": {},
   "source": [
    "### Завдання 3"
   ]
  },
  {
   "cell_type": "markdown",
   "id": "76b16b20-39e6-403c-a168-e08fc6ab9492",
   "metadata": {},
   "source": [
    "Вивести на екран наступний рядок:\n",
    "`I'm student`"
   ]
  },
  {
   "cell_type": "code",
   "execution_count": 8,
   "id": "89b068dc-e9d5-4f2d-ae78-2d678db9851c",
   "metadata": {
    "tags": []
   },
   "outputs": [
    {
     "name": "stdout",
     "output_type": "stream",
     "text": [
      "I'm student\n"
     ]
    }
   ],
   "source": [
    "print(\"I'm student\")"
   ]
  },
  {
   "cell_type": "markdown",
   "id": "6dfcfce0-6711-4da0-a3ea-5cf101ffe9d4",
   "metadata": {},
   "source": [
    "### Завдання 4"
   ]
  },
  {
   "cell_type": "markdown",
   "id": "69b1f019-5e9e-48ee-86b0-61a9e77f3ac6",
   "metadata": {},
   "source": [
    "Написати фрагмент кода в один рядок, використовуючи функцію `print()`, а також символи нового рядка та esсape-символи, щоби відповідати очикуваному результату, виведеному у трьох рядках:\n",
    "\"I'm\"\n",
    "\n",
    "\"\"learning\"\"\n",
    "\n",
    "\"\"\"Python\"\"\""
   ]
  },
  {
   "cell_type": "code",
   "execution_count": 11,
   "id": "1199f190-a1a3-4c98-b173-88b71d201587",
   "metadata": {
    "tags": []
   },
   "outputs": [
    {
     "name": "stdout",
     "output_type": "stream",
     "text": [
      "\"I'm\"\n",
      "\"\"learning\"\"\n",
      "\"\"\"Python\"\"\"\n"
     ]
    }
   ],
   "source": [
    "print('\"I\\'m\"\\n\"\"learning\"\"\\n\"\"\"Python\"\"\"')#First way"
   ]
  },
  {
   "cell_type": "code",
   "execution_count": 12,
   "id": "1c7c1bfd-07a4-47e8-b54c-db4ed5e313a5",
   "metadata": {
    "tags": []
   },
   "outputs": [
    {
     "name": "stdout",
     "output_type": "stream",
     "text": [
      "\"I'm\"\n",
      "\"\"learning\"\"\n",
      "\"\"\"Python\"\"\"\n"
     ]
    }
   ],
   "source": [
    "print('\"I\\'m\"','\"\"learning\"\"','\"\"\"Python\"\"\"',sep='\\n')#Second way"
   ]
  },
  {
   "cell_type": "markdown",
   "id": "9071ac88-affa-4810-8b62-7d137e9518cb",
   "metadata": {},
   "source": [
    "### Завдання 5"
   ]
  },
  {
   "cell_type": "markdown",
   "id": "3f507480-acc3-4f92-8aaa-21f41446f633",
   "metadata": {},
   "source": [
    "Чому в десятковій системі дорівнює $500_8$? Написати код на Python."
   ]
  },
  {
   "cell_type": "code",
   "execution_count": 13,
   "id": "57a3b646-a181-4117-9659-c89b0fbbce04",
   "metadata": {
    "tags": []
   },
   "outputs": [
    {
     "name": "stdout",
     "output_type": "stream",
     "text": [
      "320\n"
     ]
    }
   ],
   "source": [
    "print(0o500)"
   ]
  },
  {
   "cell_type": "markdown",
   "id": "aabd1e6c-768d-4a83-995d-9425f78a1506",
   "metadata": {},
   "source": [
    "### Завдання 6"
   ]
  },
  {
   "cell_type": "markdown",
   "id": "056e77af-7ac8-41c4-b396-00fb84dcec3d",
   "metadata": {},
   "source": [
    "Чому в десятковій системі дорівнює $777_{16}$? Написати код на Python."
   ]
  },
  {
   "cell_type": "code",
   "execution_count": 14,
   "id": "b9d6569f-afb7-44ea-9df1-c42028b59238",
   "metadata": {
    "tags": []
   },
   "outputs": [
    {
     "name": "stdout",
     "output_type": "stream",
     "text": [
      "1911\n"
     ]
    }
   ],
   "source": [
    "print(0x777)"
   ]
  },
  {
   "cell_type": "markdown",
   "id": "80991c43-e117-4078-8c08-205c92214d03",
   "metadata": {},
   "source": [
    "## Контрольні запитання\n",
    "\n",
    "1. Записати ієрархію операторів.\n",
    "\n",
    "1) унарний + та -\n",
    "2) **\n",
    "3) *, /, %\n",
    "4) бінарний + та -\n",
    "\n",
    "2. Записати на Python обчислення виразу $3^{3^4}$"
   ]
  },
  {
   "cell_type": "code",
   "execution_count": 15,
   "id": "7b139832-3a08-423d-9a6d-0857b90bd346",
   "metadata": {
    "tags": []
   },
   "outputs": [
    {
     "name": "stdout",
     "output_type": "stream",
     "text": [
      "443426488243037769948249630619149892803\n"
     ]
    }
   ],
   "source": [
    "print(3**3**4)"
   ]
  },
  {
   "cell_type": "markdown",
   "id": "5c71bf3e-4537-4e71-8241-19ebb138bc0d",
   "metadata": {},
   "source": [
    "3. Що робить escape-символ `\\n` при виводі на екран функцією `print()`?\n",
    "\n",
    "Перевод тексту(який після символу) на новий рядок."
   ]
  }
 ],
 "metadata": {
  "kernelspec": {
   "display_name": "Python 3 (ipykernel)",
   "language": "python",
   "name": "python3"
  },
  "language_info": {
   "codemirror_mode": {
    "name": "ipython",
    "version": 3
   },
   "file_extension": ".py",
   "mimetype": "text/x-python",
   "name": "python",
   "nbconvert_exporter": "python",
   "pygments_lexer": "ipython3",
   "version": "3.11.5"
  }
 },
 "nbformat": 4,
 "nbformat_minor": 5
}
