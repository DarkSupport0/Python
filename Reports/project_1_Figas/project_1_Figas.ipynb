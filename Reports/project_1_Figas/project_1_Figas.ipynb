{
 "cells": [
  {
   "cell_type": "markdown",
   "metadata": {},
   "source": [
    "---\n",
    "title: \"Фінальний проєкт І\"\n",
    "author: \"&copy; Фігас Ярослав, 2023\"\n",
    "date: today\n",
    "lang: ukr\n",
    "format:\n",
    "  html:\n",
    "    code-fold: true\n",
    "    toc: true # меню\n",
    "    toc_float: # спливаюче меню  \n",
    "      collapsed: true # авто\n",
    "      number_sections: true\n",
    "jupyter: python3\n",
    "---"
   ]
  },
  {
   "cell_type": "markdown",
   "metadata": {},
   "source": [
    "__Мета:__\n",
    "\n",
    "* _вдосконалення навичок у використанні Python для розв'язання складних завдань;_\n",
    "* _інтеграція методів програмування в одну програму, що складається з багатьох різних елементів._"
   ]
  },
  {
   "cell_type": "markdown",
   "metadata": {},
   "source": [
    "### Постановка завдання"
   ]
  },
  {
   "cell_type": "markdown",
   "metadata": {},
   "source": [
    "Ваше завдання - написати просту програму, яка вдає, ніби грає з користувачем у хрестики-нуліки. Щоб вам було простіше, ми вирішили спростити гру. Ось наші припущення:\n",
    "\n",
    "* комп'ютер (тобто Ваша програма) повинен грати у гру, використовуючи 'X';\n",
    "* користувач (наприклад, Ви) повинен грати в гру, використовуючи символи 'O';\n",
    "* перший хід належить комп'ютеру - він завжди поміщає свій перший 'X' у середину дошки;\n",
    "* всі квадрати пронумеровані рядок за рядком, починаючи з 1 (див. приклад сеансу нижче для довідки)\n",
    "* користувач робить свій хід, вводячи номер обраного ним квадрата - число має бути дійсним, тобто. воно має бути цілим числом, воно має бути більше 0 і менше 10 і воно не може вказувати на поле, яке вже зайняте;\n",
    "* програма перевіряє, чи закінчена гра - є чотири можливі варіанти: гра повинна продовжуватися, гра закінчується нічиєю, Ви виграєте або комп'ютер виграє;\n",
    "* комп'ютер відповідає  \n",
    "\n",
    "ходом і перевірка повторюється;\n",
    "* не застосовуйте штучний інтелект у будь-якій формі – випадковий вибір поля, зроблений комп'ютером, досить добрий для гри.  \n",
    "\n",
    "Приклад сеансу роботи з програмою може виглядати так:\n",
    "\n",
    "![image.png](foto\\FirstMoveExample.png)  \n",
    "![image.png](foto\\AnotherMoveExample.png)   \n",
    "![image.png](foto\\VictoryExample.png)  "
   ]
  },
  {
   "cell_type": "markdown",
   "metadata": {},
   "source": [
    "### Вимоги\n",
    "\n",
    "Реалізуйте такі функції:\n",
    "\n",
    "* дошка повинна зберігатися як список з трьох елементів, у той час як кожен елемент є ще одним список з трьох елементів (внутрішні списки представляють рядки), так що всі квадрати можуть бути доступні з використанням наступного синтаксису:  \n",
    "\n",
    "`board[row][column]`  \n",
    "\n",
    "* кожен із елементів внутрішнього списку може містити `'O'`, `'X'` або цифру, що становить номер квадрата (такий квадрат вважається вільним)\n",
    "* зовнішній вигляд дошки повинен бути таким самим, як у прикладі.  \n",
    "\n",
    "Отримати випадкове ціле число можна за допомогою функції Python під назвою `randrange()`. У наведеному нижче прикладі програми показано, як використовувати її (програма виводить десять випадкових чисел від `0` до `8`).\n",
    "\n",
    "Примітка: інструкція `from-import` забезпечує доступ до функції `randrange`, визначеної у зовнішньому модулі Python, що викликається `random`.\n",
    "\n",
    "```\n",
    "from random import randrange\n",
    "\n",
    "for i in range(10):  \n",
    "    print(randrange(8))\n",
    "```"
   ]
  },
  {
   "cell_type": "code",
   "execution_count": 1,
   "metadata": {
    "tags": []
   },
   "outputs": [
    {
     "name": "stdout",
     "output_type": "stream",
     "text": [
      "+-------+-------+-------+\n",
      "|       |       |       |\n",
      "|   1   |   2   |   3   |\n",
      "|       |       |       |\n",
      "+-------+-------+-------+\n",
      "|       |       |       |\n",
      "|   4   |   X   |   6   |\n",
      "|       |       |       |\n",
      "+-------+-------+-------+\n",
      "|       |       |       |\n",
      "|   7   |   8   |   9   |\n",
      "|       |       |       |\n",
      "+-------+-------+-------+\n"
     ]
    },
    {
     "name": "stdin",
     "output_type": "stream",
     "text": [
      "Введи клітину для ходу:  1\n"
     ]
    },
    {
     "name": "stdout",
     "output_type": "stream",
     "text": [
      "+-------+-------+-------+\n",
      "|       |       |       |\n",
      "|   O   |   2   |   3   |\n",
      "|       |       |       |\n",
      "+-------+-------+-------+\n",
      "|       |       |       |\n",
      "|   4   |   X   |   6   |\n",
      "|       |       |       |\n",
      "+-------+-------+-------+\n",
      "|       |       |       |\n",
      "|   7   |   X   |   9   |\n",
      "|       |       |       |\n",
      "+-------+-------+-------+\n"
     ]
    },
    {
     "name": "stdin",
     "output_type": "stream",
     "text": [
      "Введи клітину для ходу:  5\n"
     ]
    },
    {
     "name": "stdout",
     "output_type": "stream",
     "text": [
      "Ця клітина зайнята\n"
     ]
    },
    {
     "name": "stdin",
     "output_type": "stream",
     "text": [
      "Введи клітину для ходу:  0\n"
     ]
    },
    {
     "name": "stdout",
     "output_type": "stream",
     "text": [
      "Такої клітини не існує\n"
     ]
    },
    {
     "name": "stdin",
     "output_type": "stream",
     "text": [
      "Введи клітину для ходу:  2\n"
     ]
    },
    {
     "name": "stdout",
     "output_type": "stream",
     "text": [
      "+-------+-------+-------+\n",
      "|       |       |       |\n",
      "|   O   |   O   |   3   |\n",
      "|       |       |       |\n",
      "+-------+-------+-------+\n",
      "|       |       |       |\n",
      "|   4   |   X   |   6   |\n",
      "|       |       |       |\n",
      "+-------+-------+-------+\n",
      "|       |       |       |\n",
      "|   X   |   X   |   9   |\n",
      "|       |       |       |\n",
      "+-------+-------+-------+\n"
     ]
    },
    {
     "name": "stdin",
     "output_type": "stream",
     "text": [
      "Введи клітину для ходу:  3\n"
     ]
    },
    {
     "name": "stdout",
     "output_type": "stream",
     "text": [
      "Гравець переміг\n",
      "+-------+-------+-------+\n",
      "|       |       |       |\n",
      "|   O   |   O   |   O   |\n",
      "|       |       |       |\n",
      "+-------+-------+-------+\n",
      "|       |       |       |\n",
      "|   4   |   X   |   6   |\n",
      "|       |       |       |\n",
      "+-------+-------+-------+\n",
      "|       |       |       |\n",
      "|   X   |   X   |   9   |\n",
      "|       |       |       |\n",
      "+-------+-------+-------+\n"
     ]
    }
   ],
   "source": [
    "import random\n",
    "\n",
    "def enter_move(board):\n",
    "    move = int(input(\"Введи клітину для ходу: \"))\n",
    "    while ((move < 1 or move > 9) or\n",
    "    (board[int((move - 1) / 3)][int((move - 1) % 3)] == \"O\" or board[int((move - 1) / 3)][int((move - 1) % 3)] == \"X\")):\n",
    "        if move < 1 or move > 9:\n",
    "            print(\"Такої клітини не існує\")\n",
    "            move = int(input(\"Введи клітину для ходу: \"))\n",
    "        elif board[int((move - 1) / 3)][int((move - 1) % 3)] == \"O\" or board[int((move - 1) / 3)][\n",
    "            int((move - 1) % 3)] == \"X\":\n",
    "            print(\"Ця клітина зайнята\")\n",
    "            move = int(input(\"Введи клітину для ходу: \"))\n",
    "    board[int((move - 1) / 3)][int((move - 1) % 3)] = \"O\"\n",
    "\n",
    "def bot_move(board):\n",
    "    botmove = random.randrange(1, 10)\n",
    "    while (board[int((botmove - 1) / 3)][int((botmove - 1) % 3)] == \"O\" or board[int((botmove - 1) / 3)][\n",
    "        int((botmove - 1) % 3)] == \"X\"):\n",
    "        botmove = random.randrange(1, 10)\n",
    "    board[int((botmove - 1) / 3)][int((botmove - 1) % 3)] = \"X\"\n",
    "\n",
    "def victory_for(board, game):\n",
    "    if ((board[0][0] == \"O\" and board[1][1] == \"O\" and board[2][2] == \"O\") or\n",
    "            (board[0][2] == \"O\" and board[1][1] == \"O\" and board[2][0] == \"O\") or\n",
    "            (board[0][0] == \"O\" and board[0][1] == \"O\" and board[0][2] == \"O\") or\n",
    "            (board[1][0] == \"O\" and board[1][1] == \"O\" and board[1][2] == \"O\") or\n",
    "            (board[2][0] == \"O\" and board[2][1] == \"O\" and board[2][2] == \"O\") or\n",
    "            (board[0][0] == \"O\" and board[1][0] == \"O\" and board[2][0] == \"O\") or\n",
    "            (board[0][1] == \"O\" and board[1][1] == \"O\" and board[2][1] == \"O\") or\n",
    "            (board[0][2] == \"O\" and board[1][2] == \"O\" and board[2][2] == \"O\")):\n",
    "        print(\"Гравець переміг\")\n",
    "        game = False\n",
    "    if ((board[0][0] == \"X\" and board[1][1] == \"X\" and board[2][2] == \"X\") or\n",
    "            (board[0][2] == \"X\" and board[1][1] == \"X\" and board[2][0] == \"X\") or\n",
    "            (board[0][0] == \"X\" and board[0][1] == \"X\" and board[0][2] == \"X\") or\n",
    "            (board[1][0] == \"X\" and board[1][1] == \"X\" and board[1][2] == \"X\") or\n",
    "            (board[2][0] == \"X\" and board[2][1] == \"X\" and board[2][2] == \"X\") or\n",
    "            (board[0][0] == \"X\" and board[1][0] == \"X\" and board[2][0] == \"X\") or\n",
    "            (board[0][1] == \"X\" and board[1][1] == \"X\" and board[2][1] == \"X\") or\n",
    "            (board[0][2] == \"X\" and board[1][2] == \"X\" and board[2][2] == \"X\")):\n",
    "        print(\"Комп'ютер переміг\")\n",
    "        game = False\n",
    "    return game\n",
    "\n",
    "def draw_for(board, game):\n",
    "    if ((type(board[0][0]) == str) and\n",
    "            (type(board[0][1]) == str) and\n",
    "            (type(board[0][2]) == str) and\n",
    "            (type(board[1][0]) == str) and\n",
    "            (type(board[1][1]) == str) and\n",
    "            (type(board[1][2]) == str) and\n",
    "            (type(board[2][0]) == str) and\n",
    "            (type(board[2][1]) == str) and\n",
    "            (type(board[2][2]) == str)):\n",
    "        print(\"Нічия\")\n",
    "        game = False\n",
    "    return game\n",
    "\n",
    "def display_board(board):\n",
    "    print(\"+-------+-------+-------+\")\n",
    "    print(\"|       |       |       |\")\n",
    "    print(f\"|   {board[0][0]}   |   {board[0][1]}   |   {board[0][2]}   |\")\n",
    "    print(\"|       |       |       |\")\n",
    "    print(\"+-------+-------+-------+\")\n",
    "    print(\"|       |       |       |\")\n",
    "    print(f\"|   {board[1][0]}   |   {board[1][1]}   |   {board[1][2]}   |\")\n",
    "    print(\"|       |       |       |\")\n",
    "    print(\"+-------+-------+-------+\")\n",
    "    print(\"|       |       |       |\")\n",
    "    print(f\"|   {board[2][0]}   |   {board[2][1]}   |   {board[2][2]}   |\")\n",
    "    print(\"|       |       |       |\")\n",
    "    print(\"+-------+-------+-------+\")\n",
    "\n",
    "\n",
    "game = True\n",
    "board = [[1, 2, 3], [4, \"X\", 6], [7, 8, 9]]\n",
    "while game == True:\n",
    "    display_board(board)\n",
    "    enter_move(board)\n",
    "    game = victory_for(board, game)\n",
    "    if game == False:\n",
    "        break\n",
    "    bot_move(board)\n",
    "    game = victory_for(board, game)\n",
    "    if game == False:\n",
    "        break\n",
    "    game = draw_for(board, game)\n",
    "display_board(board)\n"
   ]
  }
 ],
 "metadata": {
  "kernelspec": {
   "display_name": "Python 3 (ipykernel)",
   "language": "python",
   "name": "python3"
  },
  "language_info": {
   "codemirror_mode": {
    "name": "ipython",
    "version": 3
   },
   "file_extension": ".py",
   "mimetype": "text/x-python",
   "name": "python",
   "nbconvert_exporter": "python",
   "pygments_lexer": "ipython3",
   "version": "3.11.5"
  }
 },
 "nbformat": 4,
 "nbformat_minor": 4
}
