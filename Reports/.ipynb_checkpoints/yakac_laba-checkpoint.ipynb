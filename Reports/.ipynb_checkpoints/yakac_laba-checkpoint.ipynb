{
 "cells": [
  {
   "cell_type": "markdown",
   "id": "9a7bc3af",
   "metadata": {},
   "source": [
    "# Лабораторна робота"
   ]
  },
  {
   "cell_type": "markdown",
   "id": "88e7bc3a",
   "metadata": {},
   "source": [
    "## Частина перша"
   ]
  },
  {
   "cell_type": "markdown",
   "id": "e6926ddf",
   "metadata": {},
   "source": [
    "__Hello__ _world_"
   ]
  },
  {
   "cell_type": "markdown",
   "id": "50ab87c8",
   "metadata": {},
   "source": [
    "![](Screen\\AddProject.jpg)"
   ]
  },
  {
   "cell_type": "markdown",
   "id": "c86deec0",
   "metadata": {},
   "source": [
    "![](Screen\\Code_4_1.jpg)"
   ]
  },
  {
   "cell_type": "code",
   "execution_count": 1,
   "id": "5cfe9b25",
   "metadata": {},
   "outputs": [
    {
     "name": "stdout",
     "output_type": "stream",
     "text": [
      "hello world\n"
     ]
    }
   ],
   "source": [
    "print(\"hello world\")"
   ]
  },
  {
   "cell_type": "code",
   "execution_count": null,
   "id": "7c9a89fd",
   "metadata": {},
   "outputs": [],
   "source": []
  }
 ],
 "metadata": {
  "kernelspec": {
   "display_name": "Python 3 (ipykernel)",
   "language": "python",
   "name": "python3"
  },
  "language_info": {
   "codemirror_mode": {
    "name": "ipython",
    "version": 3
   },
   "file_extension": ".py",
   "mimetype": "text/x-python",
   "name": "python",
   "nbconvert_exporter": "python",
   "pygments_lexer": "ipython3",
   "version": "3.11.5"
  }
 },
 "nbformat": 4,
 "nbformat_minor": 5
}
