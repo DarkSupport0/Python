{
 "cells": [
  {
   "cell_type": "markdown",
   "id": "451d1428",
   "metadata": {
    "tags": []
   },
   "source": [
    "---\n",
    "title: \"Лабораторна робота №1. Інсталяція та налаштування Python-середовища\"\n",
    "author: \"&copy; Фігас Ярослав, 2023\"\n",
    "date: today\n",
    "lang: ukr\n",
    "format:\n",
    "  html:\n",
    "    code-fold: true\n",
    "    toc: true # меню\n",
    "    toc_float: # спливаюче меню  \n",
    "      collapsed: true # авто\n",
    "      number_sections: true\n",
    "jupyter: python3\n",
    "---"
   ]
  },
  {
   "cell_type": "markdown",
   "id": "e3f76926",
   "metadata": {},
   "source": [
    "__Мета:__ _Засвоїти на практиці роботу з python3 у середовищі IDE PyCharm системою контроля версій git._"
   ]
  },
  {
   "cell_type": "markdown",
   "id": "9d685e9b",
   "metadata": {},
   "source": [
    "## Встановлення Python"
   ]
  },
  {
   "cell_type": "markdown",
   "id": "f1f1764c",
   "metadata": {},
   "source": [
    "Для встановлення Python треба скачати завантажувальний файл з [офіційного сайту Python](https://www.python.org/downloads/), а також середовщие для програмування [PyCharm](https://www.jetbrains.com/ru-ru/pycharm/download/?section=windows), а для оформлення звіту [Anaconda](https://www.anaconda.com/download) та [Quarto](https://quarto.org/docs/get-started/)."
   ]
  },
  {
   "cell_type": "markdown",
   "id": "bd8e965a-35a6-4472-a5c4-d9e4ff34403e",
   "metadata": {},
   "source": [
    "## Робота з Python"
   ]
  },
  {
   "cell_type": "markdown",
   "id": "b19091d2-34c3-4572-a6c4-0c7c0f3a077c",
   "metadata": {},
   "source": [
    "Для початку програмування запустимо PyCharm. Після запуску потрібно зареєструватись на пробну ліцензію або, при наявності існуючої, зайти у свій профіль JetBrain та обрати існуючу ліцензію. Після чого треба створити проект. У наступному вікні потрібно обрати місцевлаштування, де буде зберігатись проект, а також прописати шлях до python, після чого відкриється наш проект."
   ]
  },
  {
   "cell_type": "markdown",
   "id": "e470085f-8a8e-4cae-a94b-f2d60328a10c",
   "metadata": {},
   "source": [
    "![](foto\\AddProject.jpg)"
   ]
  },
  {
   "cell_type": "markdown",
   "id": "b3492438-ba33-40c6-8ae1-7435979929df",
   "metadata": {},
   "source": [
    "Після запуску проекту, створюємо файл _lab_1_Figas.py_. У ньому прописуємо нашу команду print('Привіт, спотерігач'), і запускаємо код на перевірку."
   ]
  },
  {
   "cell_type": "markdown",
   "id": "e45e7301-9ee7-48a8-be68-37945a69afd6",
   "metadata": {},
   "source": [
    "![](foto\\CreateFile.jpg)"
   ]
  },
  {
   "cell_type": "markdown",
   "id": "d206bd2a-3cb2-412f-88d9-25d7ebbf6a09",
   "metadata": {},
   "source": [
    "Перевірити код можна також тут"
   ]
  },
  {
   "cell_type": "code",
   "execution_count": 1,
   "id": "29385eda-1f6c-41a0-9368-983217dc2fdc",
   "metadata": {
    "tags": []
   },
   "outputs": [
    {
     "name": "stdout",
     "output_type": "stream",
     "text": [
      "Привіт, спостерігач\n"
     ]
    }
   ],
   "source": [
    "print('Привіт, спостерігач')"
   ]
  },
  {
   "cell_type": "markdown",
   "id": "8178b423-e4ec-4a6b-80d6-1b8a63dc4f34",
   "metadata": {},
   "source": [
    "## Робота з GitHub"
   ]
  },
  {
   "cell_type": "markdown",
   "id": "05c536fe-466a-43cd-ad7e-183433049c30",
   "metadata": {},
   "source": [
    "Наступним кроком треба з'єднати наш проект і вебсервіс GitHub. Для цього створимо репозиторій."
   ]
  },
  {
   "cell_type": "markdown",
   "id": "9ce6a80c-4aad-43a2-baf5-6650bf8cc780",
   "metadata": {},
   "source": [
    "![](foto\\CreateRepos.jpg)"
   ]
  },
  {
   "cell_type": "markdown",
   "id": "91abfb52-9aac-4a71-bebd-94267e68f21d",
   "metadata": {},
   "source": [
    "Далі скачаємо Git і зробимо налаштування конфігурації."
   ]
  },
  {
   "cell_type": "markdown",
   "id": "bf30f88c-a7ce-40c8-a415-50b972f93f41",
   "metadata": {},
   "source": [
    "![](foto\\ConfigUser.jpg)"
   ]
  },
  {
   "cell_type": "markdown",
   "id": "4d8e5127-9314-4b0e-82dd-e5d214ed3ed6",
   "metadata": {},
   "source": [
    "Наступним кроком треба ініціалізувати локальний репозиторій, для цього виконаємо наступну команду:"
   ]
  },
  {
   "cell_type": "markdown",
   "id": "7f3cc79b-78fb-4922-b5ff-ae15b573b46f",
   "metadata": {},
   "source": [
    "![](foto\\GitInit.jpg)"
   ]
  },
  {
   "cell_type": "markdown",
   "id": "f92c8a23-783c-4c22-acd3-eaae83fcd70f",
   "metadata": {},
   "source": [
    "![](foto\\GitRemoteAdd.jpg)"
   ]
  },
  {
   "cell_type": "markdown",
   "id": "58e384fe-bdab-4825-b2a5-543725c50e89",
   "metadata": {},
   "source": [
    "![](foto\\GitAdd.jpg)"
   ]
  },
  {
   "cell_type": "markdown",
   "id": "f889d613-4cc8-423c-b391-be40253a46ff",
   "metadata": {},
   "source": [
    "![](foto\\GitCommit.jpg)"
   ]
  },
  {
   "cell_type": "markdown",
   "id": "523581fc-1dbf-4aec-9a51-84343f3d488d",
   "metadata": {},
   "source": [
    "![](foto\\GitPush.jpg)"
   ]
  },
  {
   "cell_type": "markdown",
   "id": "0e013706-238b-430a-bb94-152667e88707",
   "metadata": {},
   "source": [
    "![](foto\\GitHubRepos.jpg)"
   ]
  }
 ],
 "metadata": {
  "kernelspec": {
   "display_name": "Python 3 (ipykernel)",
   "language": "python",
   "name": "python3"
  },
  "language_info": {
   "codemirror_mode": {
    "name": "ipython",
    "version": 3
   },
   "file_extension": ".py",
   "mimetype": "text/x-python",
   "name": "python",
   "nbconvert_exporter": "python",
   "pygments_lexer": "ipython3",
   "version": "3.11.5"
  }
 },
 "nbformat": 4,
 "nbformat_minor": 5
}
