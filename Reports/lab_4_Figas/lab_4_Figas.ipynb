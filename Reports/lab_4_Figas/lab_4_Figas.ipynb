{
 "cells": [
  {
   "cell_type": "markdown",
   "metadata": {},
   "source": [
    "---\n",
    "title: \"Лабораторна робота №4. Логічні значення. Умовне виконання. Цикли\"\n",
    "author: \"&copy; Фігас Ярослав, 2023\"\n",
    "date: today\n",
    "lang: ukr\n",
    "format:\n",
    "  html:\n",
    "    code-fold: true\n",
    "    toc: true # меню\n",
    "    toc_float: # спливаюче меню  \n",
    "      collapsed: true # авто\n",
    "      number_sections: true\n",
    "jupyter: python3\n",
    "---"
   ]
  },
  {
   "cell_type": "markdown",
   "metadata": {},
   "source": [
    "__Мета:__ _освоїти роботу з логічними змінними, операторами розгалуження та операторами циклів_"
   ]
  },
  {
   "cell_type": "markdown",
   "metadata": {},
   "source": [
    "## Виконання завдання"
   ]
  },
  {
   "cell_type": "markdown",
   "metadata": {},
   "source": [
    "### Завдання 1\n",
    "\n",
    "Використовуючи один з операторів порівняння в Python, напишіть просту дворядкову програму, яка приймає як вхідні дані параметр `n`, який є цілим числом, і друкує `False`, якщо `n` менше `100` і `True`, якщо `n` більше або дорівнює `100`. Не створюйте жодних блоків `if`."
   ]
  },
  {
   "cell_type": "code",
   "execution_count": 1,
   "metadata": {
    "tags": []
   },
   "outputs": [
    {
     "name": "stdin",
     "output_type": "stream",
     "text": [
      "Введіть ціле число:  100\n"
     ]
    },
    {
     "name": "stdout",
     "output_type": "stream",
     "text": [
      "True\n"
     ]
    }
   ],
   "source": [
    "# Task 1 #\n",
    "n = int(input(\"Введіть ціле число: \"))\n",
    "print(n >= 100)"
   ]
  },
  {
   "cell_type": "markdown",
   "metadata": {},
   "source": [
    "### Завдання 2\n",
    "\n",
    "Написати програму визначення найбільшого з двох дійсних чисел, використовуючи констуркцію `if-else`."
   ]
  },
  {
   "cell_type": "code",
   "execution_count": 2,
   "metadata": {
    "tags": []
   },
   "outputs": [
    {
     "name": "stdin",
     "output_type": "stream",
     "text": [
      "Введіть перше число:  2\n",
      "Введіть друге число:  2\n"
     ]
    },
    {
     "name": "stdout",
     "output_type": "stream",
     "text": [
      "Друге число більше першого чи дорівнює йому\n"
     ]
    }
   ],
   "source": [
    "# Task 2 #\n",
    "a = float(input(\"Введіть перше число: \"))\n",
    "b = float(input(\"Введіть друге число: \"))\n",
    "if a>b:\n",
    "    print(\"Перше число більше ніж друге\")\n",
    "else:\n",
    "    print(\"Друге число більше першого чи дорівнює йому\")\n"
   ]
  },
  {
   "cell_type": "markdown",
   "metadata": {},
   "source": [
    "###  Завдання 3"
   ]
  },
  {
   "cell_type": "markdown",
   "metadata": {},
   "source": [
    "Спатифіллум, більш відомий як лілія світу або біле вітрило, є одним з найпопулярніших кімнатних рослин, що фільтрують шкідливі токсини з повітря. Деякі з токсинів, які він нейтралізує, включають бензол, формальдегід та аміак.\n",
    "\n",
    "Уявіть, що ваша комп'ютерна програма любить ці рослини. Щоразу, коли вона отримує введення у вигляді слова Spathiphyllum, вона мимоволі вигукує в консоль наступний рядок: \"Spathiphyllum is the best plant ever!\"\n",
    "\n",
    "\n",
    "Напишіть програму, яка використовує концепцію умовного виконання, приймає рядок як вхідні дані та:\n",
    "\n",
    "* виводить на екран пропозицію \"Yes - Spathiphyllum is the best plant ever!\", якщо введений рядок - \"Spathiphyllum\" (верхній регістр)\n",
    "* друкує \"No, I want a big Spathiphyllum!\", якщо введений рядок - \"spathiphyllum\" (у нижньому регістрі)\n",
    "виводить \"Spathiphyllum! Not [input]!\" в іншому випадку.  \n",
    "__Примітка.__ [input] - це рядок, прийнятий як вхідний."
   ]
  },
  {
   "cell_type": "code",
   "execution_count": 3,
   "metadata": {
    "tags": []
   },
   "outputs": [
    {
     "name": "stdin",
     "output_type": "stream",
     "text": [
      "Give me Spathiphyllum ^^\n",
      " Spathiphyllum\n"
     ]
    },
    {
     "name": "stdout",
     "output_type": "stream",
     "text": [
      "Yes - Spathiphyllum is the best plant ever! *_*\n"
     ]
    }
   ],
   "source": [
    "# Task 3 #\n",
    "flover = input(\"Give me Spathiphyllum ^^\\n\")\n",
    "if flover == \"Spathiphyllum\":\n",
    "    print(\"Yes - Spathiphyllum is the best plant ever! *_*\")\n",
    "elif flover == \"spathiphyllum\":\n",
    "    print(\"No, I want a big Spathiphyllum! ^^\")\n",
    "else: print(\"Spathiphyllum! Not \"+flover+\"! :(\")"
   ]
  },
  {
   "cell_type": "markdown",
   "metadata": {},
   "source": [
    "### Завдання 4"
   ]
  },
  {
   "cell_type": "markdown",
   "metadata": {},
   "source": [
    "Жила-була земля -- земля молока та меду, населена щасливими та заможними людьми. Звісно, люди платили податки – їх щастя мало межі. Найважливіший податок, так званий податок на доходи фізичних осіб (скорочено ПДФО), повинен був сплачуватись один раз на рік та оцінювався за таким правилом:\n",
    "\n",
    "* якщо дохід громадянина не перевищував 85528 талерів, податок становив 18% від доходу мінус 556 талерів і 2 центи (це було те, що вони називали податковими пільгами)  \n",
    "* якщо дохід був вищим за цю суму, податок становив 14 839 талерів 2 центи плюс 32% надлишку понад 85 528 талерів.  \n",
    "Ваше завдання – написати калькулятор податків.\n",
    "\n",
    "Він повинен приймати одне значення з плаваючою комою: дохід.\n",
    "Потім він має вивести розрахований податок, заокруглений до повних талерів. Є функція з ім'ям `round()`, яка виконуватиме заокруглення за вас -- ви знайдете її в скелетному коді нижче."
   ]
  },
  {
   "cell_type": "code",
   "execution_count": 4,
   "metadata": {
    "tags": []
   },
   "outputs": [
    {
     "name": "stdin",
     "output_type": "stream",
     "text": [
      "Скажи мені свій дохід роковий:  85528\n"
     ]
    },
    {
     "name": "stdout",
     "output_type": "stream",
     "text": [
      "Податки від доходу дорівнюють: 14839.04 талерів\n"
     ]
    }
   ],
   "source": [
    "stonks = round(float(input(\"Скажи мені свій дохід роковий: \")), 2)\n",
    "if stonks <= 85528:\n",
    "    rent = round((stonks * 0.18 - 556), 2)\n",
    "else:\n",
    "    rent = round((14839.02 + (stonks - 85528) * 0.32), 2)\n",
    "if rent > 0:\n",
    "    print(\"Податки від доходу дорівнюють: \"+str(rent)+\" талерів\")\n",
    "else:\n",
    "    print(\"Податки від доходу дорівнюють: 0.0 талерів\")"
   ]
  },
  {
   "cell_type": "markdown",
   "metadata": {},
   "source": [
    "### Завдання 5"
   ]
  },
  {
   "cell_type": "markdown",
   "metadata": {},
   "source": [
    "Як ви, напевно, знаєте, з деяких астрономічних причин роки можуть бути високосними або звичайними. Перші тривають 366 днів, а другі – 365 днів.\n",
    "\n",
    "З моменту введення григоріанського календаря (1582) для визначення року використовується наступне правило:\n",
    "\n",
    "* якщо номер року не ділиться на чотири, це звичайний рік;\n",
    "* в іншому випадку, якщо номер року не ділиться на 100, це високосний рік;\n",
    "* в іншому випадку, якщо номер року не ділиться на 400, це звичайний рік;\n",
    "* інакше це високосний рік.  \n",
    "\n",
    "Подивіться на код у редакторі -- він читає лише номер року і має бути доповнений інструкціями, що реалізують тест, який описаний вище.\n",
    "\n",
    "Код має виводити одне з двох можливих повідомлень: `Leap year` або `Common year`, залежно від введеного значення.\n",
    "\n",
    "Було б добре перевірити, чи належить введений рік до григоріанської ери, і вивести попередження інакше: `Not within the Gregorian calendar period.`"
   ]
  },
  {
   "cell_type": "code",
   "execution_count": 5,
   "metadata": {
    "tags": []
   },
   "outputs": [
    {
     "name": "stdin",
     "output_type": "stream",
     "text": [
      "Введіть свій рік:  2023\n"
     ]
    },
    {
     "name": "stdout",
     "output_type": "stream",
     "text": [
      "Common year\n"
     ]
    }
   ],
   "source": [
    "# Task 5 #\n",
    "year = int(input(\"Введіть свій рік: \"))\n",
    "if year < 1582:\n",
    "    print(\"Not within the Gregorian calendar period.\")\n",
    "elif year % 4 != 0:\n",
    "    print(\"Common year\")\n",
    "else:\n",
    "    print(\"Leap year\")"
   ]
  },
  {
   "cell_type": "markdown",
   "metadata": {},
   "source": [
    "### Завдання 6 "
   ]
  },
  {
   "cell_type": "markdown",
   "metadata": {},
   "source": [
    "Молодший чарівник вибрав таємне число. Він сховав його в змінну з ім'ям `secret_number`. Він хоче, щоб кожен, хто запускає його програму, грав у гру _Вгадай секретний номер_ і вгадав, яке число він вибрав для них. Ті, хто не вгадає число, назавжди застрянуть у нескінченній петлі! На жаль, він не знає, як завершити код.\n",
    "\n",
    "Ваше завдання допомогти фокуснику доповнити код у редакторі таким чином, щоб код:\n",
    "\n",
    "* попросив користувача ввести ціле число;\n",
    "* використовувавши цикл `while`;\n",
    "* перевірити, чи включає введене користувачем число з числом, вибраним фокусником. Якщо число, обране користувачем, відрізняється від секретного числа чарівника, користувач повинен побачити повідомлення `\"Ха-ха! Ви застрягли у моїй петлі!\"` і отримати запит на повторне введення числа. Якщо число, введене користувачем, співпадає з числом, вибраним фокусником, число має бути надруковане на екрані, і фокусник повинен вимовити наступне слово: `«Молодець, магле! Тепер ти вільний»`. \n",
    "\n",
    "Чарівник розраховує на Вас! Не розчаровуйте його."
   ]
  },
  {
   "cell_type": "code",
   "execution_count": 16,
   "metadata": {
    "tags": []
   },
   "outputs": [
    {
     "name": "stdin",
     "output_type": "stream",
     "text": [
      "Спробуй вгадати число :)  1\n"
     ]
    },
    {
     "name": "stdout",
     "output_type": "stream",
     "text": [
      "Ха-ха! Ви застрягли у моїй петлі!\n"
     ]
    },
    {
     "name": "stdin",
     "output_type": "stream",
     "text": [
      "Спробуй вгадати число :) :  2\n"
     ]
    },
    {
     "name": "stdout",
     "output_type": "stream",
     "text": [
      "Ха-ха! Ви застрягли у моїй петлі!\n"
     ]
    },
    {
     "name": "stdin",
     "output_type": "stream",
     "text": [
      "Спробуй вгадати число :) :  3\n"
     ]
    },
    {
     "name": "stdout",
     "output_type": "stream",
     "text": [
      "Ха-ха! Ви застрягли у моїй петлі!\n"
     ]
    },
    {
     "name": "stdin",
     "output_type": "stream",
     "text": [
      "Спробуй вгадати число :) :  11\n"
     ]
    },
    {
     "name": "stdout",
     "output_type": "stream",
     "text": [
      "Ха-ха! Ви застрягли у моїй петлі!\n"
     ]
    },
    {
     "name": "stdin",
     "output_type": "stream",
     "text": [
      "Спробуй вгадати число :) :  22\n"
     ]
    },
    {
     "name": "stdout",
     "output_type": "stream",
     "text": [
      "Ха-ха! Ви застрягли у моїй петлі!\n"
     ]
    },
    {
     "name": "stdin",
     "output_type": "stream",
     "text": [
      "Спробуй вгадати число :) :  33\n"
     ]
    },
    {
     "name": "stdout",
     "output_type": "stream",
     "text": [
      "Ха-ха! Ви застрягли у моїй петлі!\n"
     ]
    },
    {
     "name": "stdin",
     "output_type": "stream",
     "text": [
      "Спробуй вгадати число :) :  111\n"
     ]
    },
    {
     "name": "stdout",
     "output_type": "stream",
     "text": [
      "Ха-ха! Ви застрягли у моїй петлі!\n"
     ]
    },
    {
     "name": "stdin",
     "output_type": "stream",
     "text": [
      "Спробуй вгадати число :) :  22\n"
     ]
    },
    {
     "name": "stdout",
     "output_type": "stream",
     "text": [
      "Ха-ха! Ви застрягли у моїй петлі!\n"
     ]
    },
    {
     "name": "stdin",
     "output_type": "stream",
     "text": [
      "Спробуй вгадати число :) :  333\n"
     ]
    },
    {
     "name": "stdout",
     "output_type": "stream",
     "text": [
      "Ха-ха! Ви застрягли у моїй петлі!\n"
     ]
    },
    {
     "name": "stdin",
     "output_type": "stream",
     "text": [
      "Спробуй вгадати число :) :  777\n"
     ]
    },
    {
     "name": "stdout",
     "output_type": "stream",
     "text": [
      "Молодець, магле! Тепер ти вільний\n"
     ]
    }
   ],
   "source": [
    "# Task 6 #\n",
    "secret_number = 777\n",
    "number = int(input(\"Спробуй вгадати число :) \"))\n",
    "while number != secret_number:\n",
    "    print(\"Ха-ха! Ви застрягли у моїй петлі!\")\n",
    "    number = int(input(\"Спробуй вгадати число :) : \"))\n",
    "print(\"Молодець, магле! Тепер ти вільний\")"
   ]
  },
  {
   "cell_type": "markdown",
   "metadata": {},
   "source": [
    "### Завдання 7 "
   ]
  },
  {
   "cell_type": "markdown",
   "metadata": {},
   "source": [
    "Ви знаєте, що таке Міссісіпі? Ну, це назва одного зі штатів та річок у Сполучених Штатах. Довжина річки Міссісіпі становить близько 2340 миль, що робить її другою за довжиною річкою у Сполучених Штатах (найдовшою з них є річка Міссурі). Це так багато, що одній краплі води потрібно 90 днів, щоб пройти весь її шлях!\n",
    "\n",
    "Слово Міссісіпі також використовується для дещо іншої мети: для рахунку Міссісіпі.\n",
    "\n",
    "Якщо ви не знайомі з цією фразою, ми можемо пояснити вам, що вона означає: вона використовується для підрахунку секунд.\n",
    "\n",
    "Ідея полягає в тому, що додавання слова Міссісіпі до числа при підрахунку секунд вголос змушує рахунок бути хронологічно точніше, і, отже, вимова \"один Міссісіпі, два Міссісіпі, три Міссісіпі\" займе приблизно три секунди! Рахунок Міссісіпі часто використовують діти, які грають у хованки, щоб переконатися, що той, хто шукає чесно, підраховує час.\n",
    "\n",
    "Ваше завдання тут дуже просте: напишіть програму, яка використовує цикл `for` для «рахунку Міссісіпі» до п'яти. Порахувавши до п'яти, програма повинна вивести на екран фінальне повідомлення `\"Ready or not, here I come!\"`"
   ]
  },
  {
   "cell_type": "code",
   "execution_count": 8,
   "metadata": {
    "tags": []
   },
   "outputs": [
    {
     "name": "stdout",
     "output_type": "stream",
     "text": [
      "1 Mississippi\n",
      "2 Mississippi\n",
      "3 Mississippi\n",
      "4 Mississippi\n",
      "5 Mississippi\n",
      "6 Mississippi\n",
      "7 Mississippi\n",
      "8 Mississippi\n",
      "9 Mississippi\n",
      "10 Mississippi\n",
      "Ready or not, here I come!\n"
     ]
    }
   ],
   "source": [
    "# Task 7 #\n",
    "import time\n",
    "for i in range (1, 11):\n",
    "    print(str(i)+\" Mississippi\")\n",
    "    time.sleep(1)\n",
    "print(\"Ready or not, here I come!\")"
   ]
  },
  {
   "cell_type": "markdown",
   "metadata": {},
   "source": [
    "### Завдання 8 "
   ]
  },
  {
   "cell_type": "markdown",
   "metadata": {},
   "source": [
    "Оператор `break` використовується для завершення/виходу з циклу.\n",
    "\n",
    "Розробте програму, яка використовує цикл `while` і постійно просить користувача ввести слово, якщо користувач не вводить `\"chupacabra\"` як секретне вихідне слово, і в цьому випадку повідомлення `\"You've successfully left the loop.\"` має бути виведений на екран, а цикл має завершитись.\n",
    "\n",
    "Не друкуйте жодне із введених користувачем слів. Використовуйте концепцію умовного виконання та інструкцію `break`."
   ]
  },
  {
   "cell_type": "code",
   "execution_count": 9,
   "metadata": {
    "tags": []
   },
   "outputs": [
    {
     "name": "stdin",
     "output_type": "stream",
     "text": [
      "Введіть слово:  hello\n",
      "Введіть слово:  I\n",
      "Введіть слово:  have\n",
      "Введіть слово:  chupacabra\n"
     ]
    },
    {
     "name": "stdout",
     "output_type": "stream",
     "text": [
      "You've successfully left the loop.\n"
     ]
    }
   ],
   "source": [
    "# Task 8 #\n",
    "while True:\n",
    "    secret_code = input(\"Введіть слово: \")\n",
    "    if secret_code == \"chupacabra\":\n",
    "        break\n",
    "print(\"You've successfully left the loop.\")"
   ]
  },
  {
   "cell_type": "markdown",
   "metadata": {},
   "source": [
    "### Завдання 9"
   ]
  },
  {
   "cell_type": "markdown",
   "metadata": {},
   "source": [
    "Оператор `continue` використовується для пропуску поточного блоку та переходу до наступної ітерації без виконання операторів усередині циклу.\n",
    "\n",
    "Його можна використовувати з циклами `while` та `for`.\n",
    "\n",
    "Ваше завдання тут особливе: Ви повинні створити пожирача голосних! Напишіть програму, яка використовує:\n",
    "\n",
    "* цикл `for`;\n",
    "* концепцію умовного виконання (`if-elif-else`)\n",
    "* оператор `continue`.  \n",
    "\n",
    "Ваша програма повинна:\n",
    "\n",
    "* попросити користувача ввести слово;\n",
    "* використовувати `user_word = user_word.upper()`, щоб перетворити слово, введене користувачем, у верхній регістр; ми  поговоримо про рядкові методи та метод `upper()` у наступних лекціях;\n",
    "* використовуйте умовне виконання та оператор `continue`, щоб \"з'їсти\" наступні голосні `A`, `E`, `I`, `O`, `U` у введеному слові;\n",
    "* виведіть на екран нез'їдені літери, кожну в окремому рядку."
   ]
  },
  {
   "cell_type": "code",
   "execution_count": 10,
   "metadata": {
    "tags": []
   },
   "outputs": [
    {
     "name": "stdin",
     "output_type": "stream",
     "text": [
      "Input english word:  Welcome to test message!\n"
     ]
    },
    {
     "name": "stdout",
     "output_type": "stream",
     "text": [
      "W\n",
      "L\n",
      "C\n",
      "M\n",
      " \n",
      "T\n",
      " \n",
      "T\n",
      "S\n",
      "T\n",
      " \n",
      "M\n",
      "S\n",
      "S\n",
      "G\n",
      "!\n"
     ]
    }
   ],
   "source": [
    "# Task 9 #\n",
    "user_word = (input(\"Input english word: \")).upper()\n",
    "for letter in user_word:\n",
    "    if letter == \"A\" or letter == \"E\" or letter == \"I\"\\\n",
    "            or letter == \"O\" or letter == \"U\":\n",
    "        continue\n",
    "    print(letter)"
   ]
  },
  {
   "cell_type": "markdown",
   "metadata": {},
   "source": [
    "### Завдання 10"
   ]
  },
  {
   "cell_type": "markdown",
   "metadata": {},
   "source": [
    "Ваше завдання тут ще особливіше, ніж раніше: Ви повинні переробити (потворного) пожирача голосних із попереднього завдання і створити кращого, покращеного (красивого) пожирача голосних! Напишіть програму, яка використовує:\n",
    "\n",
    "* цикл `for`;\n",
    "* концепцію умовного виконання (`if-elif-else`)\n",
    "* оператор `continue`.\n",
    "\n",
    "Ваша програма повинна:\n",
    "\n",
    "* попросити користувача ввести слово;\n",
    "* використовувати `user_word = user_word.upper()`, щоб перетворити слово, введене користувачем, у верхній регістр; * використовувати умовне виконання та оператор `continue` , щоб \"з'їсти\" наступні голосні `A, E, I, O, U` від введеного слова;\n",
    "* присвоїти нез'їдені літери змінної `word_without_vowels` та вивести змінну на екран.\n",
    "\n",
    "Подивіться код нижче. Ми створили `word_without_vowels` і надали йому порожній рядок. Використовуйте операцію конкатенації, щоб попросити Python об'єднати вибрані літери у довший рядок у наступних ітераціях циклу та призначити її змінною `word_without_vowels`."
   ]
  },
  {
   "cell_type": "code",
   "execution_count": 12,
   "metadata": {
    "tags": []
   },
   "outputs": [
    {
     "name": "stdin",
     "output_type": "stream",
     "text": [
      "Input english word:  Welcome to test message!\n"
     ]
    },
    {
     "name": "stdout",
     "output_type": "stream",
     "text": [
      "WLCM T TST MSSG!\n"
     ]
    }
   ],
   "source": [
    "# Task 10 #\n",
    "user_word = (input(\"Input english word: \")).upper()\n",
    "word_without_vowers = \"\"\n",
    "for letter in user_word:\n",
    "    if letter == \"A\" or letter == \"E\" or letter == \"I\"\\\n",
    "            or letter == \"O\" or letter == \"U\":\n",
    "        continue\n",
    "    word_without_vowers += letter\n",
    "print(word_without_vowers)"
   ]
  },
  {
   "cell_type": "markdown",
   "metadata": {},
   "source": [
    "### Завдання 11"
   ]
  },
  {
   "cell_type": "markdown",
   "metadata": {},
   "source": [
    "Послухайте цю історію: хлопчик та його батько, програміст, грають із дерев'яними кубиками. Вони будують піраміду (рис. 1).\n",
    "\n",
    "Їхня піраміда трохи дивна, тому що насправді це стіна у формі піраміди -- вона плоска. Піраміда складається за одним простим принципом: кожен нижній шар містить на один блок більше, ніж шар вище.\n",
    "\n",
    "На рис. 1 показано правило, що використовується будівельниками:"
   ]
  },
  {
   "cell_type": "markdown",
   "metadata": {},
   "source": [
    "![](foto\\Piramide.png)"
   ]
  },
  {
   "cell_type": "markdown",
   "metadata": {},
   "source": [
    "Ваше завдання – написати програму, яка зчитує кількість блоків, що є у будівельників, та виводить висоту піраміди, яку можна побудувати з цих блоків."
   ]
  },
  {
   "cell_type": "code",
   "execution_count": 13,
   "metadata": {
    "tags": []
   },
   "outputs": [
    {
     "name": "stdin",
     "output_type": "stream",
     "text": [
      "Введіть кількість блоків:  1000000\n"
     ]
    },
    {
     "name": "stdout",
     "output_type": "stream",
     "text": [
      "The height of the pyramid: 1413\n"
     ]
    }
   ],
   "source": [
    "# Task 11 #\n",
    "blocks = int(input(\"Введіть кількість блоків: \"))\n",
    "levels = 0\n",
    "for i in range(1,blocks):\n",
    "    if blocks - i >= 0:\n",
    "        levels += 1\n",
    "        blocks -= i\n",
    "    else: break\n",
    "print(\"The height of the pyramid: \"+str(levels))"
   ]
  },
  {
   "cell_type": "markdown",
   "metadata": {},
   "source": [
    "### Завдання 12"
   ]
  },
  {
   "cell_type": "markdown",
   "metadata": {},
   "source": [
    "1937 року німецький математик Лотар Коллатц сформулював інтригуючу гіпотезу (вона досі не доведена), яку можна описати так:\n",
    "\n",
    "* візьміть будь-яке невід'ємне та ненульове ціле число та назвіть його `c0`;\n",
    "* якщо воно парне, обчисліть нове `c0` як `c0÷2`;\n",
    "* в іншому випадку, якщо воно непарне, висиліть нове `c0 `як `3 × c0 + 1`;\n",
    "* якщо `c0 ≠ 1`, поверніться до пункту 2.\n",
    "\n",
    "Гіпотеза свідчить, що незалежно від початкового значення `c0` воно завжди дорівнюватиме `1`.\n",
    "\n",
    "Звичайно, використання комп'ютера для доведення гіпотези для будь-якого натурального числа -- надзвичайно складне завдання (для цього може знадобитися навіть штучний інтелект), але ви можете використовувати Python для перевірки деяких окремих чисел. Можливо, Ви навіть знайдете те, що спростує гіпотезу.\n",
    "\n",
    "\n",
    "Напишіть програму, яка зчитує одне натуральне число і виконує вказані вище кроки до тих пір, поки `c0` залишається відмінним від `1`. Ми також хочемо, щоб ви підрахували кроки, необхідні для досягнення мети. Ваш код також повинен виводити усі проміжні значення `c0`.\n",
    "\n",
    "Підказка: найважливіша частина проблеми –- як перетворити ідею Коллатца на цикл `while` – це ключ до успіху."
   ]
  },
  {
   "cell_type": "code",
   "execution_count": 15,
   "metadata": {
    "tags": []
   },
   "outputs": [
    {
     "name": "stdin",
     "output_type": "stream",
     "text": [
      "Введіть ціле додатнє число:  17\n"
     ]
    },
    {
     "name": "stdout",
     "output_type": "stream",
     "text": [
      "1 iteration:\t52\n",
      "2 iteration:\t26.0\n",
      "3 iteration:\t13.0\n",
      "4 iteration:\t40.0\n",
      "5 iteration:\t20.0\n",
      "6 iteration:\t10.0\n",
      "7 iteration:\t5.0\n",
      "8 iteration:\t16.0\n",
      "9 iteration:\t8.0\n",
      "10 iteration:\t4.0\n",
      "11 iteration:\t2.0\n",
      "12 iteration:\t1.0\n"
     ]
    }
   ],
   "source": [
    "# Task 12 #\n",
    "c0 = int(input(\"Введіть ціле додатнє число: \"))\n",
    "while c0 <= 0:\n",
    "    c0 = int(input(\"Введіть ціле додатнє число: \"))\n",
    "i = 0\n",
    "while c0 != 1:\n",
    "    if c0 % 2 == 0:\n",
    "        c0 /= 2\n",
    "    else:\n",
    "        c0 = 3*c0+1\n",
    "    i += 1\n",
    "    print(str(i) + \" iteration:\\t\" + str(c0))\n",
    "    time.sleep(0.2)"
   ]
  },
  {
   "cell_type": "markdown",
   "metadata": {},
   "source": [
    "## Контрольні запитання\n",
    "\n",
    "1. Який вивод наступного фрагмента?\n",
    "\n",
    "![](foto\\Code_4_1.png)\n",
    "\n",
    "`False`\n",
    "`True`\n",
    "\n",
    "2. Який вивод наступного фрагмента?\n",
    "\n",
    "![](foto\\Code_4_2.png)\n",
    "\n",
    "`False`\n",
    "`True`\n",
    "\n",
    "3. Який вивод наступного фрагмента?\n",
    "\n",
    "![](foto\\Code_4_3.png)\n",
    "\n",
    "`True`\n",
    "`False`"
   ]
  }
 ],
 "metadata": {
  "kernelspec": {
   "display_name": "Python 3 (ipykernel)",
   "language": "python",
   "name": "python3"
  },
  "language_info": {
   "codemirror_mode": {
    "name": "ipython",
    "version": 3
   },
   "file_extension": ".py",
   "mimetype": "text/x-python",
   "name": "python",
   "nbconvert_exporter": "python",
   "pygments_lexer": "ipython3",
   "version": "3.11.5"
  }
 },
 "nbformat": 4,
 "nbformat_minor": 4
}
