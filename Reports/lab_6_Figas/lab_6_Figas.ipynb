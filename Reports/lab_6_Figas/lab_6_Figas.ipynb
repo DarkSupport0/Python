{
 "cells": [
  {
   "cell_type": "markdown",
   "metadata": {},
   "source": [
    "---\n",
    "title: \"Лабораторна робота №4. Логічні значення. Умовне виконання. Цикли\"\n",
    "author: \"&copy; Фігас Ярослав, 2023\"\n",
    "date: today\n",
    "lang: ukr\n",
    "format:\n",
    "  html:\n",
    "    code-fold: true\n",
    "    toc: true # меню\n",
    "    toc_float: # спливаюче меню  \n",
    "      collapsed: true # авто\n",
    "      number_sections: true\n",
    "jupyter: python3\n",
    "---"
   ]
  },
  {
   "cell_type": "markdown",
   "metadata": {},
   "source": [
    "__Мета:__ _навчитися писати функції та користуватися ними_"
   ]
  },
  {
   "cell_type": "markdown",
   "metadata": {},
   "source": [
    "## Виконання завданнь"
   ]
  },
  {
   "cell_type": "markdown",
   "metadata": {},
   "source": [
    "### Завдання 1\n",
    "\n",
    "Написати і протестувати фун\n",
    "кцію, яка приймає один аргумент (рік) і повертає `True`, якщо рік є високосним, або `False` інакше.\n",
    "\n",
    "Основу функції вже закладено у коді в редакторі.\n",
    "\n",
    "__Примітка:__ для вас підготувлено короткий тестуючий код, який можна використовувати для перевірки своєї функції.\n",
    "\n",
    "У коді використовуються два списки - один із тестовими даними, інший - з очікуваними результатами. Код повідомить Вам, якщо якісь із Ваших результатів неправильні."
   ]
  },
  {
   "cell_type": "code",
   "execution_count": 2,
   "metadata": {
    "tags": []
   },
   "outputs": [
    {
     "name": "stdout",
     "output_type": "stream",
     "text": [
      "False\n",
      "True\n",
      "True\n",
      "True\n",
      "True\n",
      "False\n"
     ]
    }
   ],
   "source": [
    "# Task 1 #\n",
    "def checkyear(year):\n",
    "    if year >= 1582:\n",
    "        if year % 4 == 0:\n",
    "            return True\n",
    "        else: return False\n",
    "    else: return False\n",
    "\n",
    "\n",
    "print(checkyear(2023))\n",
    "print(checkyear(2024))\n",
    "trythis = [1900, 2000, 2016, 1987]\n",
    "for i in trythis:\n",
    "    print(checkyear(i))"
   ]
  },
  {
   "cell_type": "markdown",
   "metadata": {},
   "source": [
    "### Завдання 2 "
   ]
  },
  {
   "cell_type": "markdown",
   "metadata": {},
   "source": [
    "Написати та протестувати функцію, яка приймає два аргументи (рік і місяць) і повертає кількість днів для даної пари рік-місяць (у той час, як тільки лютий чутливий до значення `year`, Ваша функція має бути універсальною).\n",
    "\n",
    "Початок функції готовий. Тепер переконайте функцію повернути `None`, якщо її аргументи не мають сенсу.\n",
    "\n",
    "Звичайно, Ви можете (і повинні) використовувати раніше написану та протестовану функцію (див. попередні лаб. роб.). Це може бути дуже корисним. Ми рекомендуємо використовувати список із зазначенням довжини місяців. Ви можете створити його всередині функції – цей трюк значно скоротить код.\n",
    "\n",
    "Ми підготували тестуючий код. Розвійте його, щоб увімкнути більше тестових випадків."
   ]
  },
  {
   "cell_type": "code",
   "execution_count": 4,
   "metadata": {
    "tags": []
   },
   "outputs": [
    {
     "name": "stdout",
     "output_type": "stream",
     "text": [
      "None\n",
      "29\n",
      "29\n",
      "31\n",
      "30\n"
     ]
    }
   ],
   "source": [
    "# Task 2 #\n",
    "def daysinmonth(year, month):\n",
    "    if year < 1:\n",
    "        return None\n",
    "    if month < 1 or month > 12:\n",
    "        return None\n",
    "    daymonth = [31, 28, 31, 30, 31, 30, 31, 31, 30, 31, 30, 31]\n",
    "    daymonthfull = [31, 29, 31, 30, 31, 30, 31, 31, 30, 31, 30, 31]\n",
    "    if year % 4 == 0:\n",
    "        return daymonthfull[month - 1]\n",
    "    else:\n",
    "        return daymonth[month - 1]\n",
    "\n",
    "\n",
    "print(daysinmonth(2023, 13))\n",
    "\n",
    "test_years = [1900, 2000, 2016, 1987]\n",
    "test_months = [2, 2, 1, 11]\n",
    "for i in range (0, 4):\n",
    "    print(daysinmonth(test_years[i],test_months[i]))"
   ]
  },
  {
   "cell_type": "markdown",
   "metadata": {},
   "source": [
    "### Завдання 3\n",
    "\n",
    "Написати та протестувати функцію, яка приймає три аргументи (рік, місяць та день місяця) та повертає відповідний день року або None, якщо якийсь із аргументів невірний.\n",
    "\n",
    "Використовуйте раніше написані та протестовані функції. Додайте до коду свої власні тестові випадки."
   ]
  },
  {
   "cell_type": "code",
   "execution_count": 5,
   "metadata": {
    "tags": []
   },
   "outputs": [
    {
     "name": "stdout",
     "output_type": "stream",
     "text": [
      "365\n",
      "366\n",
      "60\n",
      "None\n"
     ]
    }
   ],
   "source": [
    "# Task 3 #\n",
    "def whatsday(year,month,day):\n",
    "    if year < 1:\n",
    "        return None\n",
    "    if month < 1 or month > 12:\n",
    "        return None\n",
    "    if day < 1 or day > 31:\n",
    "        return None\n",
    "    daymonth =     [31, 28, 31, 30, 31, 30, 31, 31, 30, 31, 30, 31]\n",
    "    daymonthfull = [31, 29, 31, 30, 31, 30, 31, 31, 30, 31, 30, 31]\n",
    "    if year % 4 == 0:\n",
    "        if day > daymonthfull[month-1]:\n",
    "            return None\n",
    "    else:\n",
    "        if day > daymonth[month-1]:\n",
    "            return None\n",
    "    sum = 0\n",
    "    if year % 4 == 0:\n",
    "        for i in range(0, month - 1):\n",
    "            sum += daymonthfull[i]\n",
    "    else:\n",
    "        for i in range(0, month - 1):\n",
    "            sum += daymonth[i]\n",
    "    sum += day\n",
    "    return sum\n",
    "\n",
    "print(whatsday(2023,12,31))\n",
    "print(whatsday(2024,12,31))\n",
    "print(whatsday(2020,2,29))\n",
    "print(whatsday(2021,2,29))"
   ]
  },
  {
   "cell_type": "markdown",
   "metadata": {},
   "source": [
    "###  Завдання 4"
   ]
  },
  {
   "cell_type": "markdown",
   "metadata": {},
   "source": [
    "Натуральне число є простим, якщо воно більше 1 і не має дільників, крім 1 і самого себе.\n",
    "\n",
    "Важко? Зовсім ні. Наприклад, 8 не є простим числом, оскільки Ви можете розділити його на 2 та 4 (ми не можемо використовувати дільники, рівні 1 та 8, оскільки визначення забороняє це).\n",
    "\n",
    "З іншого боку, 7 - просте число, оскільки ми можемо знайти йому підходящих дільників.\n",
    "\n",
    "\n",
    "Ваше завдання - написати функцію, що перевіряє, чи є число простим чи ні.\n",
    "\n",
    "Функція:\n",
    "\n",
    "* називається `is_prime`;\n",
    "* приймає один аргумент (значення для перевірки)\n",
    "* повертає `True`, якщо аргумент є простим числом, і `False` інакше.  \n",
    "\n",
    "__Підказка:__ спробуйте розділити аргумент на всі наступні значення (починаючи з 2) і перевірте залишок - якщо він дорівнює нулю, Ваше число не може бути простим; добре подумайте, коли вам слід зупинити процес.\n",
    "\n",
    "Якщо вам потрібно знайти квадратний корінь із будь-якого значення, Ви можете використовувати оператор `**`. Пам'ятайте: квадратний корінь `x` дорівнює $x^{0,5}$.\n",
    "\n",
    "Доповніть код у редакторі."
   ]
  },
  {
   "cell_type": "code",
   "execution_count": 6,
   "metadata": {
    "tags": []
   },
   "outputs": [
    {
     "name": "stdout",
     "output_type": "stream",
     "text": [
      "2 3 5 7 11 13 17 19 23 29 31 37 41 43 47 53 59 61 67 71 73 79 83 89 97 101 103 107 109 113 127 131 137 139 149 151 157 163 167 173 179 181 191 193 197 199 "
     ]
    }
   ],
   "source": [
    "# Task 4 #\n",
    "def is_prime(num):\n",
    "    count = 0\n",
    "    if num % num == 0:\n",
    "        count += 1\n",
    "    for i in range(1, num):\n",
    "        if num % i == 0:\n",
    "            count += 1\n",
    "    if count < 3:\n",
    "        return num\n",
    "for i in range(1, 200):\n",
    "    if is_prime(i + 1):\n",
    "        print(i + 1, end=\" \")"
   ]
  },
  {
   "cell_type": "markdown",
   "metadata": {},
   "source": [
    "### Завдання 5"
   ]
  },
  {
   "cell_type": "markdown",
   "metadata": {},
   "source": [
    "Витрата палива автомобіля можна висловити по-різному. Наприклад, у Європі він відображається як кількість витраченого палива на 100 кілометрів шляху.\n",
    "\n",
    "У США він відображається як кількість миль, пройдених автомобілем під час витрачання одного галону палива.\n",
    "\n",
    "Ваше завдання - написати дві функції, що конвертують л/100км в миль на галон, і навпаки.\n",
    "\n",
    "Функції:\n",
    "\n",
    "* названі `liters_100km_to_miles_gallon` та `miles_gallon_to_liters_100km` відповідно;\n",
    "* приймають один аргумент (значення, що відповідає їхнім іменам)  \n",
    "\n",
    "Доповніть код у редакторі.\n",
    "\n",
    "Запустіть свій код і перевірте, чи Ваш результат збігається з нашим.\n",
    "\n",
    "Ось деяка інформація, яка може допомогти Вам:\n",
    "\n",
    "* 1 американська мідя = 1609.344 метрів;\n",
    "* 1 американський галон = 3.785411784 літрів."
   ]
  },
  {
   "cell_type": "code",
   "execution_count": 7,
   "metadata": {
    "tags": []
   },
   "outputs": [
    {
     "name": "stdout",
     "output_type": "stream",
     "text": [
      "60.31143162393162\n",
      "31.36194444444444\n",
      "23.52145833333333\n",
      "3.9007393587617467\n",
      "7.490910297239916\n",
      "10.009131205673757\n"
     ]
    }
   ],
   "source": [
    "# Task 5 #\n",
    "def liters_100km_to_miles_gallon(liters):\n",
    "    gallon = liters / 3.785411784\n",
    "    miles = 100/1.609344\n",
    "    return miles/gallon\n",
    "def miles_gallon_to_liters_100km(miles):\n",
    "    km = miles * 1.609344 / 100\n",
    "    liters = 3.785411784\n",
    "    return liters/km\n",
    "\n",
    "print(liters_100km_to_miles_gallon(3.9))\n",
    "print(liters_100km_to_miles_gallon(7.5))\n",
    "print(liters_100km_to_miles_gallon(10.))\n",
    "print(miles_gallon_to_liters_100km(60.3))\n",
    "print(miles_gallon_to_liters_100km(31.4))\n",
    "print(miles_gallon_to_liters_100km(23.5))"
   ]
  },
  {
   "cell_type": "markdown",
   "metadata": {},
   "source": [
    "### Завдання 6 "
   ]
  },
  {
   "cell_type": "markdown",
   "metadata": {},
   "source": [
    "Написати функцію, яка перевіряє, чи три сторони заданої довжини побудувати трикутник. Вона має повернути `True`, якщо сторони можуть утворити трикутник, і `False` в іншому випадку. У цьому випадку `is_a_triangle(a, b, c)` – гарна назва для такої функції."
   ]
  },
  {
   "cell_type": "code",
   "execution_count": 8,
   "metadata": {
    "tags": []
   },
   "outputs": [
    {
     "name": "stdout",
     "output_type": "stream",
     "text": [
      "False\n",
      "True\n"
     ]
    }
   ],
   "source": [
    "# Task 6 #\n",
    "def is_a_triangle(a, b, c):\n",
    "    if a+b>c and a+c>b and b+c>a:\n",
    "        return True\n",
    "    else: return False\n",
    "\n",
    "print(is_a_triangle(11,2,3))\n",
    "print(is_a_triangle(3,4,5))"
   ]
  },
  {
   "cell_type": "markdown",
   "metadata": {},
   "source": [
    "### Завдання 7 "
   ]
  },
  {
   "cell_type": "markdown",
   "metadata": {},
   "source": [
    "Написати функцію `is_a_right_triangle(a, b, c)`, яка перевіряє, чи є трикутник зі сторонами `a`, `b`, `c` прямокутним. При цьому потрібно використати функцію `is_a_triangle(a, b, c)` з завдання 6. "
   ]
  },
  {
   "cell_type": "code",
   "execution_count": 9,
   "metadata": {
    "tags": []
   },
   "outputs": [
    {
     "name": "stdout",
     "output_type": "stream",
     "text": [
      "False\n",
      "It`s right triangle\n",
      "It`s default triangle\n"
     ]
    }
   ],
   "source": [
    "# Task 7 #\n",
    "def is_a_triangle(a, b, c):\n",
    "    if a+b>c and a+c>b and b+c>a:\n",
    "        return is_a_right_triangle(a, b, c)\n",
    "    else: return False\n",
    "def is_a_right_triangle(a, b, c):\n",
    "    if a^2+b^2==c^2 or a^2+c^2==b^2 or c^2+b^2==a^2:\n",
    "        return \"It`s right triangle\"\n",
    "    else: return \"It`s default triangle\"\n",
    "\n",
    "print(is_a_triangle(11,2,3))\n",
    "print(is_a_triangle(3,4,5))\n",
    "print(is_a_triangle(3,4,6))"
   ]
  },
  {
   "cell_type": "markdown",
   "metadata": {},
   "source": [
    "### Контрольні запитання\n",
    "\n",
    "1. Який вивод наступного фрагмента?  \n",
    "![](foto\\Code_6_1.png)\n",
    "\n",
    "Неможливо щось вивести, бо зовнішній alt не визначений\n",
    "\n",
    "1. Який вивод наступного фрагмента?  \n",
    "![](foto\\Code_6_2.png)\n",
    "\n",
    "2\n",
    "1\n",
    "\n",
    "1. Який вивод наступного фрагмента?  \n",
    "![](foto\\Code_6_3.png)\n",
    "\n",
    "2\n",
    "3\n",
    "\n",
    "1. Який вивод наступного фрагмента?  \n",
    "![](foto\\Code_6_4.png)\n",
    "\n",
    "2\n",
    "2"
   ]
  }
 ],
 "metadata": {
  "kernelspec": {
   "display_name": "Python 3 (ipykernel)",
   "language": "python",
   "name": "python3"
  },
  "language_info": {
   "codemirror_mode": {
    "name": "ipython",
    "version": 3
   },
   "file_extension": ".py",
   "mimetype": "text/x-python",
   "name": "python",
   "nbconvert_exporter": "python",
   "pygments_lexer": "ipython3",
   "version": "3.11.5"
  }
 },
 "nbformat": 4,
 "nbformat_minor": 4
}
